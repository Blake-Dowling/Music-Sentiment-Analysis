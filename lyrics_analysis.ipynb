{
 "cells": [
  {
   "cell_type": "code",
   "execution_count": 11,
   "metadata": {},
   "outputs": [],
   "source": [
    "'''\n",
    "Sources:\n",
    "sentiment analysis inspiration: https://www.kaggle.com/code/ekrembayar/f-r-i-e-n-d-s-text-mining-data-visualization\n",
    "AFINN docs: https://github.com/fnielsen/afinn\n",
    "sqlite doc: https://www.sqlite.org/\n",
    "Genius API docs: https://docs.genius.com/\n",
    "Genius API tutorial: https://www.youtube.com/watch?v=cU8YH2rhN6A\n",
    "\n",
    "'''\n",
    "\n",
    "import os\n",
    "import lyricsgenius\n",
    "import json\n",
    "from dotenv import load_dotenv\n",
    "from pprint import pprint\n",
    "import sqlite3\n",
    "from afinn import Afinn\n",
    "import re\n",
    "\n",
    "afinn = Afinn()\n",
    "\n",
    "load_dotenv()\n",
    "\n",
    "genius_access_token = os.getenv('GENIUS_ACCESS_TOKEN')\n",
    "\n",
    "genius = lyricsgenius.Genius(genius_access_token)\n",
    "\n",
    "conn = sqlite3.connect('songs.db')\n",
    "cursor = conn.cursor()\n",
    "\n",
    "cursor.execute(\n",
    "    '''\n",
    "    CREATE TABLE IF NOT EXISTS songs (\n",
    "        id INTEGER PRIMARY KEY,\n",
    "        title TEXT NOT NULL,\n",
    "        artist TEXT NOT NULL,\n",
    "        genre TEXT,\n",
    "        date DATE,\n",
    "        country TEXT,\n",
    "        lyrics TEXT,\n",
    "        sentiment REAL\n",
    "    )\n",
    "    '''\n",
    ")\n",
    "\n",
    "def addSong(title, artist, genre, date, country):\n",
    "    print(f\"Adding: {title}, {artist}, {genre}, {date}, {country}\")\n",
    "\n",
    "    lyrics = genius.search_song(title, artist)\n",
    "\n",
    "    if lyrics:\n",
    "        lyrics = str(lyrics.lyrics)\n",
    "        lyrics.replace(\"'\", \"''\")\n",
    "        lyrics = re.sub(r'[^a-zA-Z0-9\\s]', '', lyrics)\n",
    "        print()\n",
    "        print(f\"Lyrics: {lyrics[:200]}...\")\n",
    "        sentiment = afinn.score(lyrics)\n",
    "        print()\n",
    "        print(f\"Sentiment Score: {sentiment}\")\n",
    "        cursor.execute(f'''\n",
    "            INSERT INTO songs (title, artist, genre, date, country, lyrics, sentiment)\n",
    "            VALUES ('{title}', '{artist}', '{genre}', {date}, '{country}', '{lyrics}', {sentiment})\n",
    "        ''')\n",
    "    else:\n",
    "        print(\"Song not found by Genius API.\")\n",
    "\n",
    "\n",
    "\n"
   ]
  },
  {
   "cell_type": "code",
   "execution_count": 12,
   "metadata": {},
   "outputs": [
    {
     "name": "stdout",
     "output_type": "stream",
     "text": [
      "Adding: Butterfly Effect, Travis Scott, Rap, 2017, USA\n",
      "Searching for \"Butterfly Effect\" by Travis Scott...\n",
      "Done.\n",
      "Lyrics: 273 ContributorsTranslationsPortugusEspaolTrkeItalianoSvenskaFranaisBUTTERFLY EFFECT LyricsIntro\n",
      "All the commas\n",
      "Murda on the beat so its not nice\n",
      "Ooh hmm\n",
      "\n",
      "Chorus\n",
      "For this life I cannot change Change\n",
      "H...\n",
      "Sentiment Score: 62.0\n"
     ]
    },
    {
     "ename": "OperationalError",
     "evalue": "database is locked",
     "output_type": "error",
     "traceback": [
      "\u001b[0;31m---------------------------------------------------------------------------\u001b[0m",
      "\u001b[0;31mOperationalError\u001b[0m                          Traceback (most recent call last)",
      "Cell \u001b[0;32mIn[12], line 1\u001b[0m\n\u001b[0;32m----> 1\u001b[0m addSong(\u001b[39m\"\u001b[39;49m\u001b[39mButterfly Effect\u001b[39;49m\u001b[39m\"\u001b[39;49m, \u001b[39m\"\u001b[39;49m\u001b[39mTravis Scott\u001b[39;49m\u001b[39m\"\u001b[39;49m, \u001b[39m\"\u001b[39;49m\u001b[39mRap\u001b[39;49m\u001b[39m\"\u001b[39;49m, \u001b[39m\"\u001b[39;49m\u001b[39m2017\u001b[39;49m\u001b[39m\"\u001b[39;49m, \u001b[39m\"\u001b[39;49m\u001b[39mUSA\u001b[39;49m\u001b[39m\"\u001b[39;49m)\n",
      "Cell \u001b[0;32mIn[11], line 58\u001b[0m, in \u001b[0;36maddSong\u001b[0;34m(title, artist, genre, date, country)\u001b[0m\n\u001b[1;32m     56\u001b[0m     sentiment \u001b[39m=\u001b[39m afinn\u001b[39m.\u001b[39mscore(lyrics)\n\u001b[1;32m     57\u001b[0m     \u001b[39mprint\u001b[39m(\u001b[39mf\u001b[39m\u001b[39m\"\u001b[39m\u001b[39mSentiment Score: \u001b[39m\u001b[39m{\u001b[39;00msentiment\u001b[39m}\u001b[39;00m\u001b[39m\"\u001b[39m)\n\u001b[0;32m---> 58\u001b[0m     cursor\u001b[39m.\u001b[39;49mexecute(\u001b[39mf\u001b[39;49m\u001b[39m'''\u001b[39;49m\n\u001b[1;32m     59\u001b[0m \u001b[39m        INSERT INTO songs (title, artist, genre, date, country, lyrics, sentiment)\u001b[39;49m\n\u001b[1;32m     60\u001b[0m \u001b[39m        VALUES (\u001b[39;49m\u001b[39m'\u001b[39;49m\u001b[39m{\u001b[39;49;00mtitle\u001b[39m}\u001b[39;49;00m\u001b[39m'\u001b[39;49m\u001b[39m, \u001b[39;49m\u001b[39m'\u001b[39;49m\u001b[39m{\u001b[39;49;00martist\u001b[39m}\u001b[39;49;00m\u001b[39m'\u001b[39;49m\u001b[39m, \u001b[39;49m\u001b[39m'\u001b[39;49m\u001b[39m{\u001b[39;49;00mgenre\u001b[39m}\u001b[39;49;00m\u001b[39m'\u001b[39;49m\u001b[39m, \u001b[39;49m\u001b[39m{\u001b[39;49;00mdate\u001b[39m}\u001b[39;49;00m\u001b[39m, \u001b[39;49m\u001b[39m'\u001b[39;49m\u001b[39m{\u001b[39;49;00mcountry\u001b[39m}\u001b[39;49;00m\u001b[39m'\u001b[39;49m\u001b[39m, \u001b[39;49m\u001b[39m'\u001b[39;49m\u001b[39m{\u001b[39;49;00mlyrics\u001b[39m}\u001b[39;49;00m\u001b[39m'\u001b[39;49m\u001b[39m, \u001b[39;49m\u001b[39m{\u001b[39;49;00msentiment\u001b[39m}\u001b[39;49;00m\u001b[39m)\u001b[39;49m\n\u001b[1;32m     61\u001b[0m \u001b[39m    \u001b[39;49m\u001b[39m'''\u001b[39;49m)\n\u001b[1;32m     62\u001b[0m \u001b[39melse\u001b[39;00m:\n\u001b[1;32m     63\u001b[0m     \u001b[39mprint\u001b[39m(\u001b[39m\"\u001b[39m\u001b[39mSong not found by Genius API.\u001b[39m\u001b[39m\"\u001b[39m)\n",
      "\u001b[0;31mOperationalError\u001b[0m: database is locked"
     ]
    }
   ],
   "source": [
    "\n",
    "addSong(\"Butterfly Effect\", \"Travis Scott\", \"Rap\", \"2017\", \"USA\")\n"
   ]
  }
 ],
 "metadata": {
  "kernelspec": {
   "display_name": "MiningPractice",
   "language": "python",
   "name": "python3"
  },
  "language_info": {
   "codemirror_mode": {
    "name": "ipython",
    "version": 3
   },
   "file_extension": ".py",
   "mimetype": "text/x-python",
   "name": "python",
   "nbconvert_exporter": "python",
   "pygments_lexer": "ipython3",
   "version": "3.12.4"
  },
  "orig_nbformat": 4
 },
 "nbformat": 4,
 "nbformat_minor": 2
}
