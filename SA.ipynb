{
 "cells": [
  {
   "cell_type": "code",
   "execution_count": 8,
   "metadata": {},
   "outputs": [
    {
     "name": "stdout",
     "output_type": "stream",
     "text": [
      "Sentiment score: 3.0\n"
     ]
    }
   ],
   "source": [
    "from afinn import Afinn\n",
    "\n",
    "afinn = Afinn()\n",
    "\n",
    "def load_afinn_lexicon(file_path):\n",
    "    lexicon = {}\n",
    "    with open(file_path, 'r', encoding='utf-8') as file:\n",
    "        for line in file:\n",
    "            if line.strip():\n",
    "                word, score = line.split('\\t')\n",
    "                lexicon[word] = int(score)\n",
    "    return lexicon\n",
    "\n",
    "afinn_lexicon_path = '/Users/a_/miniconda3/envs/MiningPractice/lib/python3.12/site-packages/afinn/data/AFINN-111.txt'\n",
    "afinn_lexicon = load_afinn_lexicon(afinn_lexicon_path)\n"
   ]
  },
  {
   "cell_type": "code",
   "execution_count": 15,
   "metadata": {},
   "outputs": [
    {
     "name": "stdout",
     "output_type": "stream",
     "text": [
      "Sentiment score: -86.0\n",
      "zeze.txt\n",
      "15 words found in AFINN lexicon:\n",
      "{'shit', 'free', 'straight', 'fraud', 'like', 'niggas', 'fire', 'cute', 'funny', 'dick', 'no', 'help', 'bitches', 'favorite', 'ass'}\n",
      "302 words missing from AFINN lexicon:\n",
      "{'Kodak', \"nothin'\", 'favor\\nWhen', 'God', 'right', 'dope!\\n\\n[Chorus:', 'mansion', 'happened', 'lit)\\nBitches', '(Big', \"hoo)\\nI'm\", 'Demon,', \"'cause\", 'yacht,', \"jackin'\\nI\", 'go', 'tryna', 'for', 'shit)\\n\\n[Verse', '(Yeah,', 'Black]\\nPull', 'zombie', 'Skrrt)\\nTold', 'me,', 'stick', 'fling,', '(Field,', 'titty', 'jeans', 'London\\nTaylor', 'ref,', \"can't\", 'turned', \"Beam',\", 'pills,', 'the', 'Z-Walk,', 'shows\\nGet', 'expansion\\nDrive', 'undercover', 'island,', 'Long,', 'Celine\\nBaby', \"runnin'\", 'and', 'chills,', 'The', 'field', 'nigga,', 'more', 'down', \"(It's\", 'I', 'key', 'coupe,', 'ride', 'got', 'tickets', 'tell', 'to', 'death,', 'not', 'fabrics?', 'private', \"clonin',\", 'woo,', 'feel,', 'can', '(Gaddafi,', 'Day', '(Chanel)\\nI', 'than', \"doin'\\nIf\", \"eludin'\\nSleepin'\", 'mean\\nMoney', 'talk,', 'lover', 'ha,', 'he', 'like\\nThe', 'rod', 'addict', 'Chanel', 'locked', '&', 'stripes)\\nIn', '(Boom)\\nPolice', 'pop', 'Gaddafi,', 'hoes', '(Clone,', '(In', 'dawgs', 'it', 'rap', 'dive', 'up,', 'project', 'fiends,', 'jewelry', '2:', 'still', '(We', 'your', 'foul,', 'all', 'real,', 'be', 'Russia\\n\\n[Chorus:', 'skrrt)\\nTold', \"don't\", 'find', 'Z', '(Skrrt,', 'bust', \"mil',\", 'Gandhi', 'stay', 'Phantom', 'made', 'artists\\n\\nYou', \"drippin'\", 'middle', 'pull', 'dry,', \"bustin'\", 'ass)\\nGuess', 'dungeon', 'White', 'that', \"lil'\", 'jumped', 'Swift\\n\\n[Verse', 'bean\\nWhen', 'but', '(Hey,', 'do', '(Hoo,', 'haha)\\nWe', 'Reeboks\\nI', 'wrist', 'egchk)\\n300,', \"hey)\\nI'm\", 'girl,', 'Lamar\\nHabits\\nEminem', 'serve', 'wanna', 'balance\\nHit', 'each', 'Nawf,', 'mute', 'daddy,', 'casket', 'well', 'might', 'her', 'me', 'it\\nWhen', 'him', 'out', 'free)\\nWhen', 'up', 'of', 'Goliath', 're-rock\\nMy', \"hey)\\nI'ma\", 'stripes', 'what', 'she', 'hey)\\nNiggas', 'hey)\\nI', 'pool', \"clutchin'\\nYeah,\", '(Yeah)', 'lit)\\nSee', \"ain't\", 'whip,', 'other\\nNow', 'water', 'TEC', 'these', \"(Drippin')\\nAnd\", \"heart\\nI'm\", 'owe', 'an', '(Eghck,', 'eghck,', \"300)\\nMean-muggin'\", 'palette', 'watch', 'shit)\\nPull', 'have', '[Intro]\\nD.A.', 'Beckham', 'talk\\nYour', 'Buick,', 'yeah)\\nAnd', '(Ice,', 'my', 'lifestyle', 'Patek', '(Bow,', '(Woo,', 'hell-raiser\\nSelf-made,', 'diamonds', '(Yeah)\\nShe', 'Scott]\\nIce', 'run', 'roof,', 'upcoming', '(Patek)\\nBig', 'mouth,', 'baby', 'coupe', 'them', '(Alright)\\nCan', 'say', 'Calabasas\\nLike', '(Woo-woo,', 'we', '(On', 'you', 'Died\\nKendrick', 'David', 'water,', 'get', 'ice)\\nFuck', \"God)\\nLookin'\", 'Awards\\nWhen', 'Black]\\nIn', 'just', 'stepped', 'shit,', 'water)\\nDropped', 'streets', 'shit)\\nSee', 'brains', 'seesaw\\nWhen', 'a', 'Atlantic', \"'em\", 'with', 'behind', 'in', \"I'm\", 'me?\\n\\n\\n[Refrain:', 'nann', \"fleein'\", \"sippin'\", 'lean,', 'need', 'keep', 'from', \"(Fraud)\\nFlyin'\", \"sheets)\\nI'm\", 'scene,', 'Gold\\nSo', 'felt', 'know', '(This', 'let', 'oh-ah-oh\\nUh-huh,', \"slidin'\", 'it,', \"savage\\nI'm\", 'stand', \"Dickie's\", 'ever', 'heat', 'this', 'bow-bow)\\nAll', 'David,', 'is', 'money,', 'was', 'jet', 'shit)\\n\\n[Outro]\\nUh-huh,', '(Addict),', 'Party', 'scheme\\n\\n\\n[Refrain:', 'Offset]\\nOffset!\\nBlow', 'flood', 'start\\nI', '(Free,', '(Rod)\\nThis', 'budget', 'Hellcat', '1:', 'chills)\\nPop', 'now', 'Travis', 'nigga', 'police', 'baby,', 'much,', 'also', 'oh-ah-oh', \"(Freeze)\\nNightcrawlin'\", 'BET', 'panic\\nTook', 'me?\\n\\n[Refrain:', 'on'}\n",
      "Sentiment score: -124.0\n",
      "theBiggerPicture.txt\n",
      "46 words found in AFINN lexicon:\n",
      "{'gun', 'proud', 'fan', 'crushed', 'protesting', 'fight', 'blind', 'ass', 'shoot', 'chance', 'killing', 'shit', 'kill', 'hell', 'death', 'like', 'pay', 'fear', 'kind', 'no', 'losing', 'forced', 'bullshit', 'boost', 'messed', 'outcry', 'swear', 'neglect', 'fuck', 'blame', 'sentence', 'favorite', 'bless', 'free', 'scared', 'protect', 'crazy', 'loved', 'fire', 'dumb', 'admit', 'died', 'arrest', 'want', 'problem', 'growing'}\n",
      "401 words missing from AFINN lexicon:\n",
      "{'follow', 'right', \"it's\", 'our', 'seen\\nI', 'go', 'Steve\\nI', 'PART', 'sent', 'least', 'and', \"'bout\", '2]\\nFuck', 'had', 'more', 'rubber', 'national', 'make', 'breathe)\\n\\n[Verse', 'well,', 'here,', \"Siwa\\n\\n[Chorus]\\nIt's\", 'court', 'breathing', 'people,', 'choice', 'different\\nWe', 'guess', 'sobered', 'been', 'wicked,', 'scars', 'start', 'here\\nWe', 'us,', 'G63,', 'away,', 'everything', 'morning,', 'on\\nI', 'Lil', 'drive\\nOverprotective,', 'bigger', 'crazy,', 'souls,', 'up', \"'posed\", 'went', \"takin'\", \"makin'\", 'mean', 'mean?', '4x4', 'lashed', 'mama', 'many', 'stand,', 'them', 'regular', 'we', 'go\\nThis', 'protestors', 'about', 'continues', 'pick', 'one', 'a', 'judging', 'lot', \"I'm\", 'them\\nStick', 'wherever', 'let', 'chains\\nGod', 'this', 'jump', 'know,', 'police\\nBut', 'breathe,', 'line\\nYou', 'it\\nKnowledge', 'breathe\\nYou', 'time', 'us\\nWhat', 'survive\\nCrazy,', 'COVID?', 'now', 'law,', 'five', 'if', 'on', 'heart,', 'every', 'power', 'happen', 'people', 'tear', 'gas', 'how', 'for', 'again,', 'then', 'Nobody', 'us\\nWondering', \"can't\", 'change', '6\\nDrake\\nBlind\\nSZA\\nKarma\\nJoJo', 'change\\nGot', 'gifted\\nI', 'motherfucker\\u2005up)\\nLast', 'just\\u2005straight\\u2005cooked', 'free\\nFuck', 'down', \"shootin'\", 'feel', 'ones', 'to', \"mention\\nIt's\", \"I'll\", 'it\\nTell', 'long', 'some\\nEvery', 'chance\\nI', 'conscience\\nI', 'security', 'carry', 'mind', 'serious,', 'some', 'help,', 'video', 'them\\nPeople', 'prison\\nMy', 'youngins', 'storm', 'sun', 'getting', 'crunch', 'never', 'at', 'your', 'all', 'lie', 'count', 'bust', 'heard', 'weather\\nSee', 'call', \"trainin'\", 'but', 'do', 'neighborhood', 'where', 'Minneapolis\\u2005escalated\\nAs', 'involved\\nThey', 'might', \"ain't\", 'up\\nThey', 'take', 'them\\nAltercations', 'black', 'man', 'blue', 'country\\nBut', \"won't\", 'only', \"didn't\", 'can,', 'or', 'you', 'as', 'whole', \"'em\", 'sense,', 'from', 'done', 'quick\\nWhen', 'way', 'stand', 'them\\nI', \"here's\", 'like\\nTHE', 'up\\nKnowing', 'games\\nWe', 'at,', 'daughters', 'bullets\\nThe', 'also', 'please\\nI', 'front', \"livin'\", 'happened', \"'cause\", 'who', 'they', \"that's\", 'gave', 'racist\\nI', 'remember\\nIt', 'past', 'power,', 'drunk,', 'the', 'streets\\nMarch', 'shows\\nGet', '8', 'deep', 'tell', 'tickets', 'time\\nI', '1]\\nTrade', 'not', \"year\\nI'ma\", \"goin'\", \"me\\nAin't\", 'signs\\nSeem', 'did', 'HEART', 'to\\nEvery', 'life', 'Taleeb\\nHe', 'reason\\nBeen', 'have\\nThey', 'really', 'why', 'officers', 'even', 'heal', 'life\\nIt', 'up,', 'colored', 'following', '3]\\nThey', 'mine\\nYou', 'be', 'somewhere\\nMight', \"don't\", 'find', 'artists\\n\\nYou', 'up\\nFuck', 'now,', 'George', 'fear\\n\\n[Verse', \"breathe\\nIt's\", 'overnight\\nBut', 'into', 'hyenas\\nI', 'whenever', 'well', 'together\\nThey', 'were', 'fed', 'him', 'faces\\nFucked', '[Intro]\\nProtests', 'what', 'GP\\nOur', 'demonstrators', 'see', 'over', 'from\\nBut', \"gon'\", 'peace\\nSo', 'too', 'put', 'more,', 'my', \"comin'\\nI\", 'us\\nThrow', 'grieving\\nThey', 'better,', 'mad,', 'lights,', 'wrong\\nI', 'just', 'mirror', 'home', 'in', 'grow', 'reason,', 'need', 'needed', 'us', \"'head\", 'public\\nSeems', 'together,', 'waking', 'is', 'leave\\nFirst', 'outside\\nStare', \"runnin'\\nThat\", 'police', 'environment\\nHow', \"home\\nI'm\", 'phone\\nAnd', 'even\\nThrow', 'dogs', \"police'll\", 'so', 'said', 'line\\nHe', 'gotta', 'speaking', 'vent\\nIt', \"names\\n\\n\\n[Chorus]\\nIt's\", 'here', 'something,', 'I', 'trend,', 'got', 'dope,', 'handcuffs', 'around,', 'can', 'than', 'game', 'telling', '(Section', 'Floyd', \"somethin'\\nCorrupted\", 'show', 'he', 'told', 'fire\\nI', 'bleed\\nI', 'freeze\\nFucked', 'rap', 'it', 'shine\\nYou', 'lying', 'sons', 'flames', 'still', 'eye', 'dead,', 'witness,', 'learn', 'those', 'products', 'going', 'monsters\\nI', 'head', 'come', 'turn', 'whites', 'comes', 'it\\nThese', 'that', \"he'll\", 'mothers', 'This', 'me', 'arrested\\nOfficers', 'attention', 'out', 'of', 'night,', 'by', 'dream\\nNow', 'any', 'blind\\nThinking', 'these', 'cages', 'here\\nIs', 'us?\\nYou', 'have', 'bullets\\nThey', 'main', 'air', 'upcoming', 'try', 'say', \"white\\nIt's\", 'bleed,', 'get', 'while', 'when', 'system', 'with', 'seen', 'hold', 'person', 'keep', \"fear\\nIt's\", \"I'd\", \"yeah\\n\\n\\n[Chorus]\\nIt's\", 'know', 'message', 'it,', \"they'll\", 'us\\nWhile', 'believe\\nMust', 'shot,', 'was', 'plus\\nWe', 'respect', 'vote\\nI', 'us\\nI', 'arrested\\n(I', 'hope,', 'here\\nGod'}\n",
      "Sentiment score: -9.0\n",
      "whiteIverson.txt\n",
      "7 words found in AFINN lexicon:\n",
      "{'shit', 'like', 'rich', 'love', 'no', 'dead', 'miss'}\n",
      "187 words missing from AFINN lexicon:\n",
      "{\"man\\nI'm\", 'right', 'OG', \"swaggin',\", \"yeah\\nSpendin',\", 'Live\\nGet', 'Concords', 'often,', 'they', 'how', \"that's\", \"smokin'\", 'me,', 'bread,', \"can't\", 'change', 'store,', 'three', 'the', 'Matters\\nDrake\\nFE!N\\nTravis', 'and', \"'bout\", 'ball', 'practice,', 'Scott\\n\\n[Pre-Chorus]\\nWhite', 'think', 'coca', \"y'all\", 'I', \"jumpin'\\nLike\", \"you\\nI'm\", \"ah)\\nI'm\", 'got', 'tickets', 'Stoney\\nCigarettes', 'to', 'nosebleeds', '3s', '1]\\nI', '(No)\\nMy', 'commas', '(Wow),', \"yeah\\nThat's\", 'make', 'Davis', 'pay\\n\\n[Outro]\\nOoh-ooh\\nOoh-ooh\\nOoh-ooh\\nOoh-ooh', \"fuckin'\", \"rockin'\", 'options', 'makes', \"(Ooh)\\nI'm\", 'Iverson', 'headband\\nCommas,', \"saucin',\", 'broke,', \"saucin'\", 'some', '(Coca)\\nLike', 'ooh,', 'won,', \"nothin'\\nFuck\", 'OT', 'smiling,', 'in,', 'ah', \"oh-ooh\\nI'm\", 'black,', 'up,', 'bitch,', 'it', 'gold', 'you\\nWatch', 'never', 'Malone', 'answer,', 'all', 'bastards,', 'learn', 'Orleans\\nOr', \"don't\", 'man\\nSlumped', '(Ayy)\\nI', \"(Swaggin')\\nI'm\", \"ballin',\", '3s)\\nSee', 'Jordans', 'that', 'out,', 'but', 'do', 'work', '$52\\n\\nYou', 'hard)', 'magic\\nHigh', \"Shaqtin'\\n\\n\\n[Pre-Chorus]\\nWhite\", 'ring', 'young\\nYou', 'ayy)\\nWatch', 'oh-ooh', 'might', 'me', 'lesson\\nBitch,', '2-3s', 'out', 'white', 'new', 'like\\nFamily', 'see', 'KD,', 'hoes\\nStarted', 'Joes\\nYou', 'buy', 'toes\\n(This', \"ain't\", 'over', 'ah\\nSo', \"gon'\", '[Intro]\\nDouble', 'Harden,', \"OT\\nI'm\", 'braids', 'bet', \"talkin'\", 'these', 'watch', 'Iverson\\nWhen', 'have', 'pass', 'my', 'tragic,', 'yet,', \"happy\\nIt's\", 'New', 'them', 'Post', \"(Nosebleeds)\\nI'm\", \"won\\n\\n[Chorus]\\nSaucin',\", 'low', 'head,', 'you', '(And', '(To', 'teeth)\\nBitch,', 'as', 'about', 'Oh\\nI', 'just', 'OG)\\nAnd', 'when', 'a', '(Store,', 'sleeve,', 'with', 'happens,', 'in', \"I'm\", \"three\\n\\n[Chorus]\\nSaucin',\", \"(Smokin'\", 'need', 'from', 'teeth', 'know', 'money', '2]\\nOoh,', 'gone\\nI', 'it,', 'stand', '(Swish,', 'this', 'man\\nRed', 'started', 'is', 'shot,', 'was', 'jump', \"spendin'\", 'walk', 'happen,', 'pay\\n\\n[Verse', 'OT\\nDouble', 'also', 'question\\nLace', 'girls', 'if', 'average,', 'Scott\\nMELTDOWN\\nTravis', 'on'}\n",
      "Sentiment score: 27.0\n",
      "theLessIKnowTheBetter.txt\n",
      "8 words found in AFINN lexicon:\n",
      "{'stupid', 'fine', 'greatest', 'like', 'convince', 'sweet', 'feeling', 'luck'}\n",
      "132 words missing from AFINN lexicon:\n",
      "{'bullshit\\nIs', 'every', 'Bad\\nTaylor', 'slept', 'shoulder', 'who', 'they', 'said', 'side?\\nNo', 'should', '\"It\\'s', 'better\\nThe', 'line\\nSo,', 'London\\nTaylor', \"can't\", 'holding', '\"Better', 'Swift\\n\\u200eloml\\nTaylor', 'change', 'eyes', 'the', 'goodbye\\n\\n[Verse', 'Superman,', 'saw', 'Long,', 'better\\n\\n[Chorus]\\nOh,', 'I', 'her\\nShe', 'near', 'tickets', 'to', 'not', 'want?', \"talkin',\", 'suppose', 'than', 'make', 'are?\\nI', \"mind?\\nDon't\", 'without', 'less', '[Verse', 'lover', \"you're\", 'Is', 'he', 'wait', 'face,', '1]\\nSomeone', \"we'll\", 'forever\\nSee', 'never\\nWait', 'your', 'all', '3]\\nI', 'be', \"don't\", 'like\\nDown', 'together\\nYou', 'come', 'heard', 'ya\\n\\n[Outro]\\nSo,', 'yourself', 'turn', 'that', '$25\\n\\nYou', 'shows', 'mind\\n\\n[Verse', 'night\\nOh,', 'where', 'Diego\\nGet', 'Swift\\n\\n[Chorus]\\nOh,', \"leanin'\", 'could', 'might', 'me', 'out', 'left', 'by', 'forever\"\\nDon\\'t', 'what', 'San', 'see', 'away', 'said,', 'Trevor\\nNot', 'ever\\nSaid,', \"forever\\nDon't\", \"erase\\nGivin'\", 'mine\\nAll', 'my', 'together\\nI', '2]\\nShe', 'try', 'mind\\nSo', 'rock', 'say', 'or', 'low', 'together\\nOh,', 'door', 'you', 'years,', 'hands', 'surprise,', 'get', 'side?\\nI', 'as', 'on,', 'late', 'doing', 'with', 'in', 'his', 'never\\nJust', 'together\"\\nI', 'Swift\\nSo', 'Heather\"\\nThen', 'from', 'know', '\"Pull', 'ran', 'love,', 'this', 'line', 'was', 'wants', 'now', 'also', \"ya\\n'Til\", 'ten', 'on'}\n"
     ]
    }
   ],
   "source": [
    "def checkMissing(fileName):\n",
    "    with open(fileName, 'r') as f:\n",
    "        text = f.read()\n",
    "        matchedWords = set({})\n",
    "        missingWords = set({})\n",
    "        for word in text.split(' '):\n",
    "            if word not in afinn_lexicon:\n",
    "                missingWords.add(word)  \n",
    "            else:\n",
    "                matchedWords.add(word) \n",
    "        print(fileName)\n",
    "        print(f\"{len(matchedWords)} words found in AFINN lexicon:\")    \n",
    "        print(matchedWords) \n",
    "        print(f\"{len(missingWords)} words missing from AFINN lexicon:\")    \n",
    "        print(missingWords)\n",
    "def scoreSong(fileName):\n",
    "    with open(fileName, 'r') as f:\n",
    "        text = f.read()\n",
    "        score = afinn.score(text)\n",
    "        print(f\"Sentiment score: {score}\")\n",
    "scoreSong('zeze.txt')\n",
    "checkMissing('zeze.txt')\n",
    "scoreSong('theBiggerPicture.txt')\n",
    "checkMissing('theBiggerPicture.txt')\n",
    "scoreSong('whiteIverson.txt')\n",
    "checkMissing('whiteIverson.txt')\n",
    "scoreSong('theLessIKnowTheBetter.txt')\n",
    "checkMissing('theLessIKnowTheBetter.txt')"
   ]
  }
 ],
 "metadata": {
  "kernelspec": {
   "display_name": "MiningPractice",
   "language": "python",
   "name": "python3"
  },
  "language_info": {
   "codemirror_mode": {
    "name": "ipython",
    "version": 3
   },
   "file_extension": ".py",
   "mimetype": "text/x-python",
   "name": "python",
   "nbconvert_exporter": "python",
   "pygments_lexer": "ipython3",
   "version": "3.12.4"
  },
  "orig_nbformat": 4
 },
 "nbformat": 4,
 "nbformat_minor": 2
}
